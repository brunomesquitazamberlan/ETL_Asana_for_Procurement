{
 "cells": [
  {
   "attachments": {},
   "cell_type": "markdown",
   "metadata": {},
   "source": [
    "<h1> The Problem </h1>"
   ]
  },
  {
   "attachments": {},
   "cell_type": "markdown",
   "metadata": {},
   "source": [
    "We have an Asana project which have some information about Procurement Requests\n",
    "\n",
    "The problem was that we´ve Custom Fields and some information extracted via Asana forms that comes in Notes Field of a Task\n",
    "\n",
    "I needed to create an ETL script that join all information in a csv file. This CSV was a source of a PowerBI Dashboard\n",
    "\n",
    "At the moment that I´m writting this tutorial, Asana has problems when we try to export the project data to CSV cause we can split the custom fields and notes fields with excel or something like this. So, I needed to use the Asana API"
   ]
  },
  {
   "attachments": {},
   "cell_type": "markdown",
   "metadata": {},
   "source": [
    "<h1> Requirements </h1>"
   ]
  },
  {
   "attachments": {},
   "cell_type": "markdown",
   "metadata": {},
   "source": [
    "I used Asana API to extract the info. First of All, you need to have an Asana Account and, then, configure your PAT (Personal Access Token)\n",
    "\n",
    "https://developers.asana.com/docs/personal-access-token#:~:text=A%20personal%20access%20token%20(PAT,not%20unlimited%2C%20personal%20access%20tokens."
   ]
  },
  {
   "attachments": {},
   "cell_type": "markdown",
   "metadata": {},
   "source": [
    "<h1> The logic behin the ETL </h1>"
   ]
  },
  {
   "attachments": {},
   "cell_type": "markdown",
   "metadata": {},
   "source": [
    "I used 3 layers in order to extract the information. This approach gave me some flexibility in order to change things a long the way.\n",
    "\n",
    "My reference is Data Engineering topics like this: https://www.databricks.com/glossary/medallion-architecture\n",
    "\n",
    "1) Bronze Layer\n",
    "\n",
    "2) Silver Layer\n",
    "\n",
    "3) Golden Layer\n",
    "\n",
    "With the result of the Bronze Layer, you´ll be able to create the Silver Layer and, then, with the result of the Silver Layer you´ll be able to create the golden layer"
   ]
  },
  {
   "attachments": {},
   "cell_type": "markdown",
   "metadata": {},
   "source": [
    "<h1> How to use it </h1>\n"
   ]
  },
  {
   "attachments": {},
   "cell_type": "markdown",
   "metadata": {},
   "source": [
    "You´ll neeed\n",
    "\n",
    "1) Put all the fields you want to extract in a list (including the notes fields) like \n",
    "    list_of_fields = ['aaa', 'bbb']\n",
    "\n",
    "2) Run extract_bronze_layer function passing:\n",
    "    Asana Project ID\n",
    "    'prod or test' ->\n",
    "    list of fields that It was mentioned in step 1\n",
    "\n",
    "    * filtered_bronze_layer = {task: task_fields for task, task_fields in bronze_layer.items() if task_fields[2] != 'Unknow'}\n",
    "\n",
    "3) Run extract_silver_layer passing the filtered_bronze_layer\n",
    "\n",
    "4) Run extract_golden_layer passing\n",
    "    silver_layer extracted before\n",
    "    Asana Project ID\n",
    "    "
   ]
  },
  {
   "attachments": {},
   "cell_type": "markdown",
   "metadata": {},
   "source": [
    "<h1><font color='blue'> Please, put the information here </h1></font>"
   ]
  },
  {
   "cell_type": "code",
   "execution_count": null,
   "metadata": {},
   "outputs": [],
   "source": [
    "personal_access_token = ''\n",
    "asana_project_id = ''\n",
    "field_list = ['', '', '']"
   ]
  },
  {
   "attachments": {},
   "cell_type": "markdown",
   "metadata": {},
   "source": [
    "<h1> Bruno´s way of code </h1>"
   ]
  },
  {
   "attachments": {},
   "cell_type": "markdown",
   "metadata": {},
   "source": [
    "I´ve been using functional programming and I believe that I can use some background concepts in order to give me a concise code. Python is not a functional language, but it has the power of using some functional concepts. \n",
    "\n",
    "Sometimes it´s better to use Object Oriented approach like using Dataclasses, but, in this specific problem, I didn´t use it.\n",
    "\n",
    "1) Function instead of Objects\n",
    "\n",
    "2) High-order functions\n",
    "\n",
    "3) Immutability driven\n",
    "\n",
    "4) Create datastructures combining Dictionaries, Lists and Tuples\n",
    "\n",
    "5) Iterate over datastructures using List and Dict Comprehension"
   ]
  },
  {
   "attachments": {},
   "cell_type": "markdown",
   "metadata": {},
   "source": [
    "<h1> IMPORTS </h1>"
   ]
  },
  {
   "cell_type": "code",
   "execution_count": 15,
   "metadata": {},
   "outputs": [],
   "source": [
    "# Libs that we´ll use during the code #\n",
    "\n",
    "import asana\n",
    "import pandas as pd\n",
    "import re\n",
    "from datetime import datetime, date\n",
    "######################################\n",
    "\n",
    "\n",
    "#### Asana Parameters ####\n",
    "client = asana.Client.access_token(personal_access_token)\n",
    "client.LOG_ASANA_CHANGE_WARNINGS = False #Disable Asana API Warnings\n",
    "headers = {\n",
    "    'Accept': 'application/json',\n",
    "    'Authorization': 'Bearer {personal_acess_token}',\n",
    "}\n",
    "##########################\n",
    "\n",
    "\n",
    "\n",
    "#### Date Parameters ####\n",
    "hoje = datetime.today()\n",
    "today = datetime.today()\n",
    "dia = hoje.strftime(\"%Y-%m-%d\")\n",
    "date_today = date(hoje.year, hoje.month, hoje.day)\n",
    "#########################"
   ]
  },
  {
   "attachments": {},
   "cell_type": "markdown",
   "metadata": {},
   "source": [
    "<h1> BRONZE LAYER Functions </h1>"
   ]
  },
  {
   "attachments": {},
   "cell_type": "markdown",
   "metadata": {},
   "source": [
    "As you can see, I´m using Python Closure in join some functions into a single one\n",
    "\n",
    "Reference:\n",
    "https://www.programiz.com/python-programming/closure#:~:text=Python%20closure%20is%20a%20nested,of%20nested%20functions%20in%20Python."
   ]
  },
  {
   "attachments": {},
   "cell_type": "markdown",
   "metadata": {},
   "source": [
    "In order to understand the logic i´ve splitted the problem into 3 steps:\n",
    "\n",
    "1) Find the regular values of a task (name, created_at, modified_at, assignee) - All tasks, at minimum, will have this fields. See the function <i>get_default_fields()</i> Be careful with assignee, because sometimes we can retrive \"None\" as the value.\n",
    "\n",
    "2) Find the custom fields of a task. See the function <i>try_get_regular_or_custom_field()</i>\n",
    "\n",
    "3) Extract the Notes Fields. See the function <i>try_get_notes_fields()</i>\n",
    "\n",
    "Finally, I aggregate them into a dictionary that will be the Bronze Layer\n",
    "\n",
    "IMPORTANT: There are some cases that you´ll not be able to extract the notes fields of a task. So, I classified it as \"unknow\". You´ll need to filter this before create the Silver Layer"
   ]
  },
  {
   "cell_type": "code",
   "execution_count": 4,
   "metadata": {},
   "outputs": [],
   "source": [
    "def extract_bronze_layer(project_gid: str, environment, fields_list: list):\n",
    "    \n",
    "    def choose_right_iterator(prod_or_test: str):\n",
    "        \n",
    "        \"\"\"This is a way to avoid wasting time debugging. If you choose test, the script will read only the first 10 entries\"\"\"\n",
    "        \n",
    "        iterator_for_debug_meaning = list(client.tasks.get_tasks_for_project(project_gid))[0:10]\n",
    "    \n",
    "        iterator_with_task_list_of_a_project = client.tasks.get_tasks_for_project(project_gid)\n",
    "\n",
    "        return iterator_for_debug_meaning if prod_or_test == 'test' else iterator_with_task_list_of_a_project\n",
    "    \n",
    "    def try_regular_AND_non_regular_fields(task_gid: str, field_name_list: list):\n",
    "        \n",
    "        \"\"\"I called the method to get task information and store all the values into task_infos_generator\"\"\"\n",
    "        \n",
    "        task_infos_generator = client.tasks.get_task(task_gid)\n",
    "        \n",
    "        def get_default_fields(task_infos_generator):\n",
    "            \n",
    "            return {'name': task_infos_generator['name'],\n",
    "                    'created_at': task_infos_generator['created_at'][:10],\n",
    "                    'modified_at': task_infos_generator['modified_at'][:10],\n",
    "                    'assignee': task_infos_generator['assignee']['name'] if task_infos_generator['assignee'] != None else None} \n",
    "        \n",
    "        \n",
    "        def try_get_regular_or_custom_field(task_infos_generator, field_name_list: list):\n",
    "        \n",
    "            def get_regular_or_custom_field(task_infos_generator, field_name: str):\n",
    "                \n",
    "                try:\n",
    "                    field_value = task_infos_generator[field_name] \n",
    "                except:\n",
    "                    try:\n",
    "                        field_value = [task['display_value'] for task in task_infos_generator['custom_fields'] if task['name'] == field_name][0] \n",
    "                    except:\n",
    "                        field_value = 'NA'\n",
    "                \n",
    "                return field_value\n",
    "            \n",
    "            return {field: get_regular_or_custom_field(task_infos_generator, field) for field in field_name_list}\n",
    "        \n",
    "        \n",
    "        def try_get_notes_fields(task_infos_generator):\n",
    "            \n",
    "            \"\"\"I needed to extract the notes fields and put them into a tuple\"\"\"\n",
    "            \n",
    "            def extract_notes_from_field(task_infos_generator):\n",
    "            \n",
    "                string = task_infos_generator['notes']\n",
    "\n",
    "                string_content = re.compile(\"\\n\").split(string)\n",
    "                ##### You´ll see that the information were spplited by \"\\n\" in notes fields. So, I used this to create a list with the values ####\n",
    "                \n",
    "                return string_content\n",
    "\n",
    "            def create_tuple_with_fields_values(list_of_string_values):\n",
    "\n",
    "                    def create_end_interval_list(list_of_string_values: list):\n",
    "                        \n",
    "                        string_values = list_of_string_values.copy()\n",
    "                            \n",
    "                        end_interval_list = []\n",
    "\n",
    "                        for index in list(range(0, len(string_values))):\n",
    "                            if string_values[index] == \"\":\n",
    "                                end_interval_list.append(index)\n",
    "                            \n",
    "                        return end_interval_list\n",
    "                        \n",
    "                    def create_start_interval_list(end_interval_list: list):\n",
    "                        \n",
    "                        start_interval_list = end_interval_list.copy()\n",
    "                            \n",
    "                        del start_interval_list[-1] \n",
    "                        start_interval_list = [element + 1 for element in start_interval_list]\n",
    "                        start_interval_list.append(0)\n",
    "                        start_interval_list.sort()\n",
    "                            \n",
    "                        return start_interval_list\n",
    "                                \n",
    "                    def create_iterator_with_list_slice(list_of_string_values, end_interval_list, start_interval_list):\n",
    "                            \n",
    "                        string_values_list = list_of_string_values.copy()\n",
    "                            \n",
    "                        for start, end in zip(start_interval_list, end_interval_list):\n",
    "                            yield string_values_list[slice(start, end)]    \n",
    "                        \n",
    "                    def create_dictionary_with_fields_values(adjusted_list):\n",
    "                            \n",
    "                        fields_name_list = []\n",
    "                        for content in adjusted_list:\n",
    "                            try:\n",
    "                                field_name_content = content[0]\n",
    "                            except:\n",
    "                                field_name_content = 'Unknown'\n",
    "                            fields_name_list.append(field_name_content)\n",
    "                            \n",
    "                        fields_value_list = []\n",
    "                        for content in adjusted_list:\n",
    "                            try:\n",
    "                                field_value_content = \" \".join(content[1:])\n",
    "                            except:\n",
    "                                field_value_content = 'Unknown' \n",
    "                            fields_value_list.append(field_value_content)\n",
    "                            \n",
    "                        dict_with_fields_values = {field: value for field, value in zip(fields_name_list, fields_value_list)}\n",
    "                            \n",
    "                        return dict_with_fields_values\n",
    "                        \n",
    "                    end_range = create_end_interval_list(list_of_string_values) \n",
    "                    start_range = create_start_interval_list(end_range)\n",
    "                    adjusted_list_of_string_values = list(create_iterator_with_list_slice(list_of_string_values, end_range, start_range))\n",
    "                    dict_with_fields_values = create_dictionary_with_fields_values(adjusted_list_of_string_values)\n",
    "                        \n",
    "                    info = dict_with_fields_values\n",
    "                        \n",
    "                    return info\n",
    "                \n",
    "            return create_tuple_with_fields_values(extract_notes_from_field(task_infos_generator))\n",
    "        \n",
    "        \n",
    "        default_fields = get_default_fields(task_infos_generator)\n",
    "        custom_regular_fields = try_get_regular_or_custom_field(task_infos_generator, field_name_list) \n",
    "        \n",
    "        try: \n",
    "            note_fields = try_get_notes_fields(task_infos_generator) \n",
    "        except:\n",
    "            note_fields = 'Unknow'\n",
    "        \n",
    "        \n",
    "        return (default_fields, custom_regular_fields,\n",
    "                note_fields)\n",
    "            \n",
    "            \n",
    "    task_list_generator = (task for task in choose_right_iterator(environment))\n",
    "    \n",
    "    task_list = [task['gid'] for task in task_list_generator]\n",
    "    \n",
    "    \n",
    "    return {task: try_regular_AND_non_regular_fields(task, fields_list) for task in task_list}\n",
    "\n",
    "\n",
    "\n",
    "     "
   ]
  },
  {
   "cell_type": "markdown",
   "metadata": {},
   "source": [
    "<h1> Understanding the Bronze Layer </h1>"
   ]
  },
  {
   "attachments": {},
   "cell_type": "markdown",
   "metadata": {},
   "source": [
    "The final result will be a dictionary that will have the keys as the Asana Task Id´s. The value will be a tuple containing 3 dictionaries as explained in the image.\n",
    "\n",
    "<img src='updated_bronze_layer.jpg'>"
   ]
  },
  {
   "cell_type": "code",
   "execution_count": 9,
   "metadata": {},
   "outputs": [],
   "source": [
    "def extract_silver_layer(filtered_bronze_dict: dict):\n",
    "\n",
    "    \n",
    "    def filter_bronze_layer_with_default_fields(filtered_bronze_dict: dict):\n",
    "       return {task: {field: field_value for field, field_value in task_fields[0].items() if field_value != 'NA'} for task, task_fields in filtered_bronze_dict.items()} \n",
    "    \n",
    "    def filter_bronze_layer_with_regular_fields(filtered_bronze_dict: dict):\n",
    "        return {task: {field: field_value for field, field_value in task_fields[1].items() if field_value != 'NA'} for task, task_fields in filtered_bronze_dict.items()} \n",
    "\n",
    "    def filter_non_regular_fields(filtered_bronze_dict: dict):\n",
    "        return {task: {field: field_value for field, field_value in task_fields[2].items() if field_value != 'NA'} for task, task_fields in filtered_bronze_dict.items()}\n",
    "\n",
    "    def filter_NA_tasks_fields(filtered_bronze_dict: dict):\n",
    "        return {task: [field for field, field_value in task_fields[1].items() if field_value == 'NA'] for task, task_fields in filtered_bronze_dict.items()}\n",
    "\n",
    "    def extract_NA_tasks_fields_in_bronze_layer(NA_task, non_regular_bronze_dict: dict):\n",
    "        \n",
    "        def get_field_value(filtered_dict: dict, field):\n",
    "            try:\n",
    "                return filtered_dict[field]\n",
    "            except:\n",
    "                return None\n",
    "        \n",
    "        return {task: {field: get_field_value(non_regular_bronze_dict[task], field) for field in task_field} for task, task_field in NA_task.items()}\n",
    "\n",
    "\n",
    "    filtered_bronze_layer_with_default_fields = filter_bronze_layer_with_default_fields(filtered_bronze_dict)\n",
    "    \n",
    "    filtered_bronze_layer_with_regular_fields = filter_bronze_layer_with_regular_fields(filtered_bronze_dict)\n",
    "    \n",
    "    filtered_bronze_layer_with_non_regular_fields = filter_non_regular_fields(filtered_bronze_dict)\n",
    "    \n",
    "    filtered_NA_tasks_fields = filter_NA_tasks_fields(filtered_bronze_dict)\n",
    "    \n",
    "    extracted_NA_tasks_fields_in_bronze_layer = extract_NA_tasks_fields_in_bronze_layer(filtered_NA_tasks_fields,\n",
    "                                            filtered_bronze_layer_with_non_regular_fields) \n",
    "     \n",
    "\n",
    "    silver_layer = {\n",
    "    \n",
    "            task: \n",
    "        \n",
    "        {\n",
    "        \n",
    "        **{field: fields_values #I used this ** in order to join 3 dictionaries into single one\n",
    "            for field, fields_values in filtered_bronze_layer_with_default_fields[task].items()},\n",
    "        \n",
    "        **{field: fields_values\n",
    "            for field, fields_values in filtered_bronze_layer_with_regular_fields[task].items()},\n",
    "        \n",
    "        **{field: fields_values\n",
    "            for field, fields_values in extracted_NA_tasks_fields_in_bronze_layer[task].items()}\n",
    "        \n",
    "        }\n",
    "    \n",
    "        for task in list(filtered_bronze_layer_with_default_fields.keys())\n",
    "       \n",
    "       \n",
    "        }\n",
    "    \n",
    "    return silver_layer\n",
    "             \n"
   ]
  },
  {
   "attachments": {},
   "cell_type": "markdown",
   "metadata": {},
   "source": [
    "<h1> Understanding the Silver Layer </h1>"
   ]
  },
  {
   "attachments": {},
   "cell_type": "markdown",
   "metadata": {},
   "source": [
    "The final result will be a dictionary that will have the keys as the Asana Task Id´s. The value will be a tuple containing 3 dictionaries as explained in the image (as we had on the Bronze Layer)\n",
    "\n",
    "But, it´s filtered with only the fields associated with the tasks. (We´ve removed the NA values)\n",
    "\n",
    "<img src='silver_layer.jpg'>"
   ]
  },
  {
   "cell_type": "code",
   "execution_count": 10,
   "metadata": {},
   "outputs": [],
   "source": [
    "def extract_golden_layer(silver_layer_dict: dict, project_gid: str):\n",
    "    \n",
    "    project_followers_list = client.projects.get_project(project_gid)['followers']\n",
    "    \n",
    "    dict_base_for_sections = dict_base = {section['name']: [task['gid'] for task in client.tasks.get_tasks_for_section(section['gid'])]\n",
    "        for section in client.sections.get_sections_for_project(project_gid)}\n",
    "    \n",
    "    \n",
    "    def extract_section_and_owner_email_from_task(task_gid, task_assignee, project_followers_list):\n",
    "    \n",
    "        \n",
    "        extract_section_of_a_given_task = lambda task_gid: [key for key, value_list in dict_base_for_sections.items() for value in value_list if value == task_gid][0]\n",
    "        \n",
    "            \n",
    "        def extract_owner_email_from_task(task_assignee, project_followers_list): \n",
    "\n",
    "            def find_e_mail_from_user_name(name, project_followers_list):\n",
    "                    \n",
    "                if task_assignee == None:\n",
    "                    return None\n",
    "                else:\n",
    "                    try:\n",
    "                        dict_with_name_gid = {name: gid for name, gid in zip([info['name'] for info in project_followers_list], [info['gid'] for info in project_followers_list])}\n",
    "                        return client.users.get_user(dict_with_name_gid[name])['email']\n",
    "                    except:\n",
    "                        return None\n",
    "                \n",
    "            return find_e_mail_from_user_name(task_assignee, project_followers_list)\n",
    "\n",
    "        \n",
    "        return {'assignee_email': extract_owner_email_from_task(task_assignee, project_followers_list),\n",
    "            'section': extract_section_of_a_given_task(task_gid)}\n",
    "            \n",
    "    \n",
    "    task_list = list(silver_layer_dict.keys())\n",
    "    \n",
    "    \n",
    "    layer_with_section_email = {task: extract_section_and_owner_email_from_task(task, silver_layer_dict[task]['assignee'], project_followers_list) for task in task_list}\n",
    "    \n",
    "    golden_layer = {task: {**{field: fields_values\n",
    "            for field, fields_values in layer_with_section_email[task].items()},\n",
    "        \n",
    "        **{field: fields_values\n",
    "            for field, fields_values in silver_layer_dict[task].items()}\n",
    "        } for task, values in silver_layer_dict.items()}\n",
    "    \n",
    "    return golden_layer"
   ]
  },
  {
   "attachments": {},
   "cell_type": "markdown",
   "metadata": {},
   "source": [
    "<h1> Understanding the Golden Layer </h1>"
   ]
  },
  {
   "attachments": {},
   "cell_type": "markdown",
   "metadata": {},
   "source": [
    "The logic is similiar as Bronze Layer and Silver Layer, but I used this last layer in order to run the most deep processes. As you saw in the code, we had a function called <i>extract_section_and_owner_email_from_task()</i>\n",
    "\n",
    "<img src='golden_layer.jpg'>"
   ]
  },
  {
   "cell_type": "markdown",
   "metadata": {},
   "source": [
    "<h2><font color='green'> Bronze Layer </h2></font>"
   ]
  },
  {
   "cell_type": "code",
   "execution_count": 18,
   "metadata": {},
   "outputs": [],
   "source": [
    "bronze_layer = extract_bronze_layer(asana_project_id, 'prod', field_list)\n",
    "\n",
    "filtered_bronze_layer = {task: task_fields for task, task_fields in bronze_layer.items() if task_fields[2] != 'Unknow'}"
   ]
  },
  {
   "attachments": {},
   "cell_type": "markdown",
   "metadata": {},
   "source": [
    "<h2><font color='green'> Silver Layer </h2></font>"
   ]
  },
  {
   "cell_type": "code",
   "execution_count": 19,
   "metadata": {},
   "outputs": [],
   "source": [
    "silver_layer = extract_silver_layer(filtered_bronze_layer)"
   ]
  },
  {
   "attachments": {},
   "cell_type": "markdown",
   "metadata": {},
   "source": [
    "<h2><font color='green'> Golden Layer </h2></font>"
   ]
  },
  {
   "cell_type": "code",
   "execution_count": 20,
   "metadata": {},
   "outputs": [],
   "source": [
    "golden_layer = extract_golden_layer(silver_layer, asana_project_id) "
   ]
  },
  {
   "cell_type": "code",
   "execution_count": 21,
   "metadata": {},
   "outputs": [],
   "source": [
    "df = pd.DataFrame.from_records([value for value in golden_layer.values()], index=list(golden_layer.keys()))"
   ]
  },
  {
   "attachments": {},
   "cell_type": "markdown",
   "metadata": {},
   "source": [
    "<h1> Understanding what should we do with the Golden Layer </h1>"
   ]
  },
  {
   "attachments": {},
   "cell_type": "markdown",
   "metadata": {},
   "source": [
    "After ingest and processing all data through the Bronze, Silver and Golden Layer. I decided to transform all the data into a Pandas DataFrame in order to export it to an CSV file.\n",
    "\n",
    "Remember that this data will be a source of a PowerBI Dashboard\n",
    "\n",
    "<img src='dataframe.jpg'>"
   ]
  },
  {
   "cell_type": "code",
   "execution_count": 160,
   "metadata": {},
   "outputs": [],
   "source": [
    "df.to_csv('ETL_extracted.csv')"
   ]
  }
 ],
 "metadata": {
  "kernelspec": {
   "display_name": "Python 3.9.12 ('base')",
   "language": "python",
   "name": "python3"
  },
  "language_info": {
   "codemirror_mode": {
    "name": "ipython",
    "version": 3
   },
   "file_extension": ".py",
   "mimetype": "text/x-python",
   "name": "python",
   "nbconvert_exporter": "python",
   "pygments_lexer": "ipython3",
   "version": "3.9.12"
  },
  "orig_nbformat": 4,
  "vscode": {
   "interpreter": {
    "hash": "5f6dae4cf990ba1115e00aa4dfd3faf4400c19926a90ceda7c9b24280bbb1bda"
   }
  }
 },
 "nbformat": 4,
 "nbformat_minor": 2
}
